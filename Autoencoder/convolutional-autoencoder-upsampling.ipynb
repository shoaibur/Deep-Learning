{
 "cells": [
  {
   "cell_type": "markdown",
   "metadata": {},
   "source": [
    "# Autoencoder: Upsampling Convolutional"
   ]
  },
  {
   "cell_type": "markdown",
   "metadata": {},
   "source": [
    "### Imports"
   ]
  },
  {
   "cell_type": "code",
   "execution_count": 1,
   "metadata": {},
   "outputs": [],
   "source": [
    "import torch\n",
    "import torch.nn as nn\n",
    "import torch.nn.functional as F\n",
    "import torch.optim as optim\n",
    "\n",
    "from torchvision import datasets, transforms, models\n",
    "\n",
    "import numpy as np\n",
    "import matplotlib.pyplot as plt\n",
    "%matplotlib inline"
   ]
  },
  {
   "cell_type": "markdown",
   "metadata": {},
   "source": [
    "### Data"
   ]
  },
  {
   "cell_type": "code",
   "execution_count": 2,
   "metadata": {},
   "outputs": [],
   "source": [
    "transform = transforms.ToTensor()\n",
    "\n",
    "trainset = datasets.MNIST('~/.pytorch/MNIST_data', download=True, train=True, transform=transform)\n",
    "validset = datasets.MNIST('~/.pytorch/MNIST_data', download=True, train=False, transform=transform)\n",
    "\n",
    "batch_size = 20\n",
    "\n",
    "trainloader = torch.utils.data.DataLoader(trainset, batch_size=batch_size, shuffle=True)\n",
    "validloader = torch.utils.data.DataLoader(validset, batch_size=batch_size, shuffle=True)"
   ]
  },
  {
   "cell_type": "markdown",
   "metadata": {},
   "source": [
    "### Model"
   ]
  },
  {
   "cell_type": "code",
   "execution_count": 6,
   "metadata": {},
   "outputs": [
    {
     "name": "stdout",
     "output_type": "stream",
     "text": [
      "ConvAutoencoder(\n",
      "  (conv1): Conv2d(1, 16, kernel_size=(3, 3), stride=(1, 1), padding=(1, 1))\n",
      "  (conv2): Conv2d(16, 4, kernel_size=(3, 3), stride=(1, 1), padding=(1, 1))\n",
      "  (pool): MaxPool2d(kernel_size=2, stride=2, padding=0, dilation=1, ceil_mode=False)\n",
      "  (conv3): Conv2d(4, 16, kernel_size=(3, 3), stride=(1, 1), padding=(1, 1))\n",
      "  (conv4): Conv2d(16, 1, kernel_size=(3, 3), stride=(1, 1), padding=(1, 1))\n",
      ")\n"
     ]
    }
   ],
   "source": [
    "class ConvAutoencoder(nn.Module):\n",
    "    def __init__(self):\n",
    "        super(ConvAutoencoder, self).__init__()\n",
    "        ## Encoder ##\n",
    "        self.conv1 = nn.Conv2d(1, 16, kernel_size=3, stride=1, padding=1)\n",
    "        self.conv2 = nn.Conv2d(16, 4, kernel_size=3, stride=1, padding=1)\n",
    "        \n",
    "        ## Pooling ##\n",
    "        self.pool = nn.MaxPool2d(2, 2)\n",
    "        \n",
    "        ## Decoder ##\n",
    "        self.conv3 = nn.Conv2d(4, 16, kernel_size=3, stride=1, padding=1)\n",
    "        self.conv4 = nn.Conv2d(16, 1, kernel_size=3, stride=1, padding=1)\n",
    "                \n",
    "    def forward(self, x):        \n",
    "        x = self.pool(F.relu(self.conv1(x)))\n",
    "        x = self.pool(F.relu(self.conv2(x)))\n",
    "        \n",
    "        x = F.interpolate(x, scale_factor=2, mode='nearest')\n",
    "        x = F.relu(self.conv3(x))\n",
    "        x = F.interpolate(x, scale_factor=2, mode='nearest')\n",
    "        x = torch.sigmoid(self.conv4(x))\n",
    "        \n",
    "        return x\n",
    "\n",
    "model = ConvAutoencoder()\n",
    "print(model)\n"
   ]
  },
  {
   "cell_type": "markdown",
   "metadata": {},
   "source": [
    "### Loss function and optimizer"
   ]
  },
  {
   "cell_type": "code",
   "execution_count": 7,
   "metadata": {},
   "outputs": [],
   "source": [
    "criterion = nn.MSELoss()\n",
    "optimizer = optim.Adam(model.parameters(), lr=0.001)"
   ]
  },
  {
   "cell_type": "markdown",
   "metadata": {},
   "source": [
    "### Train model"
   ]
  },
  {
   "cell_type": "code",
   "execution_count": 8,
   "metadata": {},
   "outputs": [
    {
     "name": "stdout",
     "output_type": "stream",
     "text": [
      "Epoch: 1 ... Train loss: 0.431846\n",
      "Epoch: 2 ... Train loss: 0.225593\n",
      "Epoch: 3 ... Train loss: 0.207634\n",
      "Epoch: 4 ... Train loss: 0.199814\n",
      "Epoch: 5 ... Train loss: 0.195860\n",
      "Epoch: 6 ... Train loss: 0.193209\n",
      "Epoch: 7 ... Train loss: 0.190984\n",
      "Epoch: 8 ... Train loss: 0.188958\n",
      "Epoch: 9 ... Train loss: 0.186858\n",
      "Epoch: 10 ... Train loss: 0.184557\n",
      "Epoch: 11 ... Train loss: 0.182458\n",
      "Epoch: 12 ... Train loss: 0.180971\n",
      "Epoch: 13 ... Train loss: 0.179869\n",
      "Epoch: 14 ... Train loss: 0.179075\n",
      "Epoch: 15 ... Train loss: 0.178336\n",
      "Epoch: 16 ... Train loss: 0.177656\n",
      "Epoch: 17 ... Train loss: 0.177108\n",
      "Epoch: 18 ... Train loss: 0.176515\n",
      "Epoch: 19 ... Train loss: 0.175829\n",
      "Epoch: 20 ... Train loss: 0.175343\n"
     ]
    }
   ],
   "source": [
    "device = torch.device('cuda' if torch.cuda.is_available() else 'cpu')\n",
    "model = model.to(device)\n",
    "\n",
    "n_epochs = 20\n",
    "for iepoch in range(n_epochs):\n",
    "    batch_loss = 0\n",
    "    for ibatch, (images, labels) in enumerate(trainloader):\n",
    "        # Display progress\n",
    "        progress = ibatch / len(trainloader) * 100\n",
    "        sys.stdout.write('\\rEpoch: {}/{} ... Progress: {:0.2f} % ...'.format(iepoch, n_epochs, progress))\n",
    "        sys.stdout.flush()\n",
    "        \n",
    "        images = images.to(device)\n",
    "        optimizer.zero_grad()\n",
    "        output = model(images)        \n",
    "        loss = criterion(output, images)\n",
    "        loss.backward()\n",
    "        optimizer.step()\n",
    "        batch_loss += loss.item() * images.shape[0]\n",
    "    epoch_loss = batch_loss / len(trainloader)\n",
    "    print('Epoch: {} ... Train loss: {:0.6f}'.format(iepoch+1, epoch_loss))"
   ]
  },
  {
   "cell_type": "markdown",
   "metadata": {},
   "source": [
    "### Visualize the performance"
   ]
  },
  {
   "cell_type": "code",
   "execution_count": 9,
   "metadata": {},
   "outputs": [
    {
     "data": {
      "image/png": "[encoded data removed]",
      "text/plain": [
       "<Figure size 2000x200 with 40 Axes>"
      ]
     },
     "metadata": {
      "needs_background": "light"
     },
     "output_type": "display_data"
    }
   ],
   "source": [
    "images, labels = next(iter(validloader))\n",
    "images = images.to(device)\n",
    "model.eval()\n",
    "with torch.no_grad():\n",
    "    output = model(images)\n",
    "output = output.view(output.shape[0], 1, 28, 28)\n",
    "\n",
    "images = images.to('cpu').numpy()\n",
    "output = output.to('cpu').numpy()\n",
    "\n",
    "fig, ax = plt.subplots(2,images.shape[0], figsize=(images.shape[0],2), dpi=100, sharex=True, sharey=True)\n",
    "for i in range(output.shape[0]):\n",
    "    ax[0,i].imshow(images[i,0,:,:], cmap='gray')\n",
    "    ax[0,i].get_xaxis().set_visible(False)\n",
    "    ax[0,i].get_yaxis().set_visible(False)\n",
    "    ax[1,i].imshow(output[i,0,:,:], cmap='gray')\n",
    "    ax[1,i].get_xaxis().set_visible(False)\n",
    "    ax[1,i].get_yaxis().set_visible(False)\n",
    "    \n",
    "plt.show()"
   ]
  },
  {
   "cell_type": "code",
   "execution_count": null,
   "metadata": {},
   "outputs": [],
   "source": []
  }
 ],
 "metadata": {
  "kernelspec": {
   "display_name": "Python 3",
   "language": "python",
   "name": "python3"
  },
  "language_info": {
   "codemirror_mode": {
    "name": "ipython",
    "version": 3
   },
   "file_extension": ".py",
   "mimetype": "text/x-python",
   "name": "python",
   "nbconvert_exporter": "python",
   "pygments_lexer": "ipython3",
   "version": "3.7.6"
  }
 },
 "nbformat": 4,
 "nbformat_minor": 2
}
