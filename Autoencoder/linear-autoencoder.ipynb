{
 "cells": [
  {
   "cell_type": "markdown",
   "metadata": {},
   "source": [
    "# Linear Autoencoder"
   ]
  },
  {
   "cell_type": "markdown",
   "metadata": {},
   "source": [
    "### Imports"
   ]
  },
  {
   "cell_type": "code",
   "execution_count": 1,
   "metadata": {},
   "outputs": [],
   "source": [
    "import torch\n",
    "import torch.nn as nn\n",
    "import torch.nn.functional as F\n",
    "import torch.optim as optim\n",
    "\n",
    "from torchvision import datasets, transforms, models\n",
    "\n",
    "import numpy as np\n",
    "import matplotlib.pyplot as plt\n",
    "%matplotlib inline"
   ]
  },
  {
   "cell_type": "markdown",
   "metadata": {},
   "source": [
    "### Data"
   ]
  },
  {
   "cell_type": "code",
   "execution_count": 66,
   "metadata": {},
   "outputs": [],
   "source": [
    "transform = transforms.ToTensor()\n",
    "\n",
    "trainset = datasets.MNIST('~/.pytorch/MNIST_data', download=True, train=True, transform=transform)\n",
    "validset = datasets.MNIST('~/.pytorch/MNIST_data', download=True, train=False, transform=transform)\n",
    "\n",
    "batch_size = 20\n",
    "\n",
    "trainloader = torch.utils.data.DataLoader(trainset, batch_size=batch_size, shuffle=True)\n",
    "validloader = torch.utils.data.DataLoader(validset, batch_size=batch_size, shuffle=True)"
   ]
  },
  {
   "cell_type": "markdown",
   "metadata": {},
   "source": [
    "### Model"
   ]
  },
  {
   "cell_type": "code",
   "execution_count": 105,
   "metadata": {},
   "outputs": [
    {
     "name": "stdout",
     "output_type": "stream",
     "text": [
      "LinearAutoencoder(\n",
      "  (fc1e): Linear(in_features=784, out_features=256, bias=True)\n",
      "  (fc2e): Linear(in_features=256, out_features=16, bias=True)\n",
      "  (fc2d): Linear(in_features=16, out_features=256, bias=True)\n",
      "  (fc1d): Linear(in_features=256, out_features=784, bias=True)\n",
      "  (dropout): Dropout(p=0.0, inplace=False)\n",
      ")\n"
     ]
    }
   ],
   "source": [
    "class LinearAutoencoder(nn.Module):\n",
    "    def __init__(self, compress_dim):\n",
    "        super(LinearAutoencoder, self).__init__()\n",
    "        ## Encoder ##\n",
    "        self.fc1e = nn.Linear(28*28, 256)\n",
    "        self.fc2e = nn.Linear(256, compress_dim)\n",
    "        \n",
    "        ## Decoder ##\n",
    "        self.fc2d = nn.Linear(compress_dim, 256)\n",
    "        self.fc1d = nn.Linear(256, 28*28)\n",
    "        \n",
    "        ## Dropout ##\n",
    "        self.dropout = nn.Dropout(p=0.0)\n",
    "        \n",
    "    def forward(self, x):        \n",
    "        x = self.dropout(F.relu(self.fc1e(x)))\n",
    "        x = self.dropout(F.relu(self.fc2e(x)))\n",
    "        \n",
    "        x = self.dropout(F.relu(self.fc2d(x)))\n",
    "        x = torch.sigmoid(self.fc1d(x))\n",
    "        \n",
    "        return x\n",
    "\n",
    "model = LinearAutoencoder(compress_dim=16)\n",
    "print(model)\n"
   ]
  },
  {
   "cell_type": "markdown",
   "metadata": {},
   "source": [
    "### Loss function and optimizer"
   ]
  },
  {
   "cell_type": "code",
   "execution_count": 106,
   "metadata": {},
   "outputs": [],
   "source": [
    "criterion = nn.MSELoss()\n",
    "optimizer = optim.Adam(model.parameters(), lr=0.001)"
   ]
  },
  {
   "cell_type": "markdown",
   "metadata": {},
   "source": [
    "### Train model"
   ]
  },
  {
   "cell_type": "code",
   "execution_count": 107,
   "metadata": {},
   "outputs": [
    {
     "name": "stdout",
     "output_type": "stream",
     "text": [
      "Epoch: 1 ... Train loss: 0.563802\n",
      "Epoch: 2 ... Train loss: 0.395084\n",
      "Epoch: 3 ... Train loss: 0.361094\n",
      "Epoch: 4 ... Train loss: 0.343416\n",
      "Epoch: 5 ... Train loss: 0.323920\n",
      "Epoch: 6 ... Train loss: 0.307120\n",
      "Epoch: 7 ... Train loss: 0.298725\n",
      "Epoch: 8 ... Train loss: 0.292499\n",
      "Epoch: 9 ... Train loss: 0.287369\n",
      "Epoch: 10 ... Train loss: 0.283562\n",
      "Epoch: 11 ... Train loss: 0.280138\n",
      "Epoch: 12 ... Train loss: 0.277178\n",
      "Epoch: 13 ... Train loss: 0.274705\n",
      "Epoch: 14 ... Train loss: 0.272498\n",
      "Epoch: 15 ... Train loss: 0.270538\n",
      "Epoch: 16 ... Train loss: 0.268640\n",
      "Epoch: 17 ... Train loss: 0.266845\n",
      "Epoch: 18 ... Train loss: 0.265570\n",
      "Epoch: 19 ... Train loss: 0.264235\n",
      "Epoch: 20 ... Train loss: 0.262907\n"
     ]
    }
   ],
   "source": [
    "device = torch.device('cuda' if torch.cuda.is_available() else 'cpu')\n",
    "model = model.to(device)\n",
    "\n",
    "n_epochs = 20\n",
    "for iepoch in range(n_epochs):\n",
    "    batch_loss = 0\n",
    "    for images, labels in trainloader:\n",
    "        images = images.view(images.shape[0], -1)\n",
    "        images = images.to(device)\n",
    "        optimizer.zero_grad()\n",
    "        output = model(images)\n",
    "        loss = criterion(output, images)\n",
    "        loss.backward()\n",
    "        optimizer.step()\n",
    "        batch_loss += loss.item() * images.shape[0]\n",
    "    epoch_loss = batch_loss / len(trainloader)\n",
    "    print('Epoch: {} ... Train loss: {:0.6f}'.format(iepoch+1, epoch_loss))"
   ]
  },
  {
   "cell_type": "markdown",
   "metadata": {},
   "source": [
    "### Visualize the performance"
   ]
  },
  {
   "cell_type": "code",
   "execution_count": 108,
   "metadata": {},
   "outputs": [
    {
     "data": {
      "image/png": "[encoded data removed]",
      "text/plain": [
       "<Figure size 2000x200 with 40 Axes>"
      ]
     },
     "metadata": {
      "needs_background": "light"
     },
     "output_type": "display_data"
    }
   ],
   "source": [
    "images, labels = next(iter(validloader))\n",
    "images_flat = images.view(images.shape[0],-1)\n",
    "images_flat = images_flat.to(device)\n",
    "model.eval()\n",
    "with torch.no_grad():\n",
    "    output = model(images_flat)\n",
    "output = output.view(output.shape[0], 1, 28, 28)\n",
    "\n",
    "images = images.to('cpu').numpy()\n",
    "output = output.to('cpu').numpy()\n",
    "\n",
    "fig, ax = plt.subplots(2,images.shape[0], figsize=(images.shape[0],2), dpi=100, sharex=True, sharey=True)\n",
    "for i in range(output.shape[0]):\n",
    "    ax[0,i].imshow(images[i,0,:,:], cmap='gray')\n",
    "    ax[1,i].imshow(output[i,0,:,:], cmap='gray')\n",
    "plt.show()"
   ]
  },
  {
   "cell_type": "code",
   "execution_count": null,
   "metadata": {},
   "outputs": [],
   "source": []
  }
 ],
 "metadata": {
  "kernelspec": {
   "display_name": "Python 3",
   "language": "python",
   "name": "python3"
  },
  "language_info": {
   "codemirror_mode": {
    "name": "ipython",
    "version": 3
   },
   "file_extension": ".py",
   "mimetype": "text/x-python",
   "name": "python",
   "nbconvert_exporter": "python",
   "pygments_lexer": "ipython3",
   "version": "3.7.6"
  }
 },
 "nbformat": 4,
 "nbformat_minor": 2
}
